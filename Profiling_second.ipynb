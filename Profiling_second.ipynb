{
 "cells": [
  {
   "cell_type": "code",
   "execution_count": 4,
   "metadata": {},
   "outputs": [],
   "source": [
    "import pandas as pd\n",
    "import matplotlib.pyplot as plt"
   ]
  },
  {
   "cell_type": "code",
   "execution_count": 5,
   "metadata": {},
   "outputs": [],
   "source": [
    "# Read the CSV file\n",
    "data = pd.read_csv('output_second.csv')"
   ]
  },
  {
   "cell_type": "code",
   "execution_count": 6,
   "metadata": {},
   "outputs": [
    {
     "name": "stdout",
     "output_type": "stream",
     "text": [
      "Number of customers in each segment:\n",
      "Segment\n",
      "1    1040\n",
      "0     982\n",
      "Name: count, dtype: int64\n"
     ]
    }
   ],
   "source": [
    "# 1. Segment Overview\n",
    "print(\"Number of customers in each segment:\")\n",
    "print(data['Segment'].value_counts())\n"
   ]
  },
  {
   "cell_type": "code",
   "execution_count": 7,
   "metadata": {},
   "outputs": [
    {
     "name": "stdout",
     "output_type": "stream",
     "text": [
      "\n",
      "Segment 1:\n",
      "Income:\n",
      "Mean: 68434.61\n",
      "Median: 67375.00\n",
      "MntWines:\n",
      "Mean: 486.74\n",
      "Median: 448.00\n",
      "MntFruits:\n",
      "Mean: 21.81\n",
      "Median: 12.00\n",
      "MntMeatProducts:\n",
      "Mean: 187.67\n",
      "Median: 134.00\n",
      "MntFishProducts:\n",
      "Mean: 32.72\n",
      "Median: 17.00\n",
      "MntSweetProducts:\n",
      "Mean: 21.09\n",
      "Median: 11.00\n",
      "MntGoldProds:\n",
      "Mean: 40.42\n",
      "Median: 29.50\n",
      "\n",
      "Segment 0:\n",
      "Income:\n",
      "Mean: 33850.44\n",
      "Median: 34845.50\n",
      "MntWines:\n",
      "Mean: 70.66\n",
      "Median: 23.50\n",
      "MntFruits:\n",
      "Mean: 5.90\n",
      "Median: 3.00\n",
      "MntMeatProducts:\n",
      "Mean: 32.67\n",
      "Median: 16.50\n",
      "MntFishProducts:\n",
      "Mean: 9.31\n",
      "Median: 4.00\n",
      "MntSweetProducts:\n",
      "Mean: 6.20\n",
      "Median: 3.00\n",
      "MntGoldProds:\n",
      "Mean: 19.09\n",
      "Median: 12.00\n"
     ]
    }
   ],
   "source": [
    "# 2. Income and Spending Analysis\n",
    "for segment in data['Segment'].unique():\n",
    "    segment_data = data[data['Segment'] == segment]\n",
    "    print(f\"\\nSegment {segment}:\")\n",
    "    print(\"Income:\")\n",
    "    print(f\"Mean: {segment_data['Income'].mean():.2f}\")\n",
    "    print(f\"Median: {segment_data['Income'].median():.2f}\")\n",
    "    \n",
    "    for col in ['MntWines', 'MntFruits', 'MntMeatProducts', 'MntFishProducts', 'MntSweetProducts', 'MntGoldProds']:\n",
    "        print(f\"{col}:\")\n",
    "        print(f\"Mean: {segment_data[col].mean():.2f}\")\n",
    "        print(f\"Median: {segment_data[col].median():.2f}\")"
   ]
  },
  {
   "cell_type": "code",
   "execution_count": 8,
   "metadata": {},
   "outputs": [
    {
     "name": "stdout",
     "output_type": "stream",
     "text": [
      "\n",
      "Segment 1:\n",
      "Education:\n",
      "Education\n",
      "Graduation      525\n",
      "PhD             255\n",
      "Master          171\n",
      "Foundational     89\n",
      "Name: count, dtype: int64\n",
      "Marital Status:\n",
      "Marital_Status\n",
      "Relationship    674\n",
      "Single          364\n",
      "Absurd            2\n",
      "Name: count, dtype: int64\n",
      "Age Distribution:\n",
      "count    1040.000000\n",
      "mean     1966.679808\n",
      "std        11.838437\n",
      "min      1941.000000\n",
      "25%      1957.000000\n",
      "50%      1967.000000\n",
      "75%      1975.000000\n",
      "max      1995.000000\n",
      "Name: Year_Birth, dtype: float64\n",
      "\n",
      "Segment 0:\n",
      "Education:\n",
      "Education\n",
      "Graduation      484\n",
      "PhD             188\n",
      "Master          169\n",
      "Foundational    141\n",
      "Name: count, dtype: int64\n",
      "Marital Status:\n",
      "Marital_Status\n",
      "Relationship    622\n",
      "Single          360\n",
      "Name: count, dtype: int64\n",
      "Age Distribution:\n",
      "count     982.000000\n",
      "mean     1971.155804\n",
      "std        11.161367\n",
      "min      1943.000000\n",
      "25%      1963.000000\n",
      "50%      1972.000000\n",
      "75%      1979.000000\n",
      "max      1996.000000\n",
      "Name: Year_Birth, dtype: float64\n"
     ]
    }
   ],
   "source": [
    "# 3. Demographic Analysis\n",
    "for segment in data['Segment'].unique():\n",
    "    segment_data = data[data['Segment'] == segment]\n",
    "    print(f\"\\nSegment {segment}:\")\n",
    "    print(\"Education:\")\n",
    "    print(segment_data['Education'].value_counts())\n",
    "    print(\"Marital Status:\")\n",
    "    print(segment_data['Marital_Status'].value_counts())\n",
    "    print(\"Age Distribution:\")\n",
    "    print(segment_data['Year_Birth'].describe())"
   ]
  },
  {
   "cell_type": "code",
   "execution_count": 9,
   "metadata": {},
   "outputs": [
    {
     "name": "stdout",
     "output_type": "stream",
     "text": [
      "\n",
      "Segment 1:\n",
      "Recency:\n",
      "Mean: 44.86\n",
      "Median: 46.50\n",
      "NumDealsPurchases:\n",
      "Mean: 1.92\n",
      "Median: 1.00\n",
      "NumWebPurchases:\n",
      "Mean: 5.37\n",
      "Median: 5.00\n",
      "NumCatalogPurchases:\n",
      "Mean: 4.20\n",
      "Median: 4.00\n",
      "NumStorePurchases:\n",
      "Mean: 7.94\n",
      "Median: 8.00\n",
      "NumWebVisitsMonth:\n",
      "Mean: 4.02\n",
      "Median: 4.00\n",
      "\n",
      "Segment 0:\n",
      "Recency:\n",
      "Mean: 43.55\n",
      "Median: 43.00\n",
      "NumDealsPurchases:\n",
      "Mean: 2.21\n",
      "Median: 2.00\n",
      "NumWebPurchases:\n",
      "Mean: 2.63\n",
      "Median: 2.00\n",
      "NumCatalogPurchases:\n",
      "Mean: 0.77\n",
      "Median: 0.00\n",
      "NumStorePurchases:\n",
      "Mean: 3.53\n",
      "Median: 3.00\n",
      "NumWebVisitsMonth:\n",
      "Mean: 6.62\n",
      "Median: 7.00\n"
     ]
    }
   ],
   "source": [
    "# 4. Engagement Analysis\n",
    "for segment in data['Segment'].unique():\n",
    "    segment_data = data[data['Segment'] == segment]\n",
    "    print(f\"\\nSegment {segment}:\")\n",
    "    print(\"Recency:\")\n",
    "    print(f\"Mean: {segment_data['Recency'].mean():.2f}\")\n",
    "    print(f\"Median: {segment_data['Recency'].median():.2f}\")\n",
    "    \n",
    "    for col in ['NumDealsPurchases', 'NumWebPurchases', 'NumCatalogPurchases', 'NumStorePurchases', 'NumWebVisitsMonth']:\n",
    "        print(f\"{col}:\")\n",
    "        print(f\"Mean: {segment_data[col].mean():.2f}\")\n",
    "        print(f\"Median: {segment_data[col].median():.2f}\")"
   ]
  },
  {
   "cell_type": "code",
   "execution_count": 10,
   "metadata": {},
   "outputs": [
    {
     "data": {
      "image/png": "[encoded data removed]",
      "text/plain": [
       "<Figure size 640x480 with 1 Axes>"
      ]
     },
     "metadata": {},
     "output_type": "display_data"
    },
    {
     "data": {
      "image/png": "[encoded data removed]",
      "text/plain": [
       "<Figure size 640x480 with 1 Axes>"
      ]
     },
     "metadata": {},
     "output_type": "display_data"
    },
    {
     "data": {
      "image/png": "[encoded data removed]",
      "text/plain": [
       "<Figure size 640x480 with 1 Axes>"
      ]
     },
     "metadata": {},
     "output_type": "display_data"
    }
   ],
   "source": [
    "# 5. Visualization\n",
    "for col in ['Income', 'MntWines', 'Recency']:\n",
    "    plt.figure()\n",
    "    for segment in data['Segment'].unique():\n",
    "        segment_data = data[data['Segment'] == segment]\n",
    "        plt.hist(segment_data[col], alpha=0.5, label=f'Segment {segment}')\n",
    "    plt.title(col)\n",
    "    plt.legend()\n",
    "    plt.show()"
   ]
  }
 ],
 "metadata": {
  "kernelspec": {
   "display_name": "Python 3",
   "language": "python",
   "name": "python3"
  },
  "language_info": {
   "codemirror_mode": {
    "name": "ipython",
    "version": 3
   },
   "file_extension": ".py",
   "mimetype": "text/x-python",
   "name": "python",
   "nbconvert_exporter": "python",
   "pygments_lexer": "ipython3",
   "version": "3.12.0"
  }
 },
 "nbformat": 4,
 "nbformat_minor": 2
}
