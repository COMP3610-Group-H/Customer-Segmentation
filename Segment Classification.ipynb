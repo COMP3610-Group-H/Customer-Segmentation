{
 "cells": [
  {
   "cell_type": "markdown",
   "metadata": {},
   "source": [
    "Our aim in this notebook is to solve the binary classification problem regarding the two customer segmentation. "
   ]
  },
  {
   "cell_type": "markdown",
   "metadata": {},
   "source": [
    "First we load out dataset, begin to inspect, look for missing values, impute, etc."
   ]
  },
  {
   "cell_type": "code",
   "execution_count": 57,
   "metadata": {},
   "outputs": [],
   "source": [
    "import pandas as pd\n",
    "\n",
    "df = pd.read_csv(\"output.csv\")"
   ]
  },
  {
   "cell_type": "code",
   "execution_count": 58,
   "metadata": {},
   "outputs": [
    {
     "name": "stdout",
     "output_type": "stream",
     "text": [
      "     ID  Year_Birth   Education Marital_Status   Income  Kidhome  Teenhome  \\\n",
      "0  2174        1954  Graduation         Single  46344.0        1         1   \n",
      "1  4141        1965  Graduation   Relationship  71613.0        0         0   \n",
      "2  6182        1984  Graduation   Relationship  26646.0        1         0   \n",
      "3  5324        1981         PhD   Relationship  58293.0        1         0   \n",
      "4  7446        1967      Master   Relationship  62513.0        0         1   \n",
      "\n",
      "   Recency  MntWines  MntFruits  ...  MntGoldProds  NumDealsPurchases  \\\n",
      "0       38        11          1  ...             6                  2   \n",
      "1       26       426         49  ...            42                  1   \n",
      "2       26        11          4  ...             5                  2   \n",
      "3       94       173         43  ...            15                  5   \n",
      "4       16       520         42  ...            14                  2   \n",
      "\n",
      "   NumWebPurchases  NumCatalogPurchases  NumStorePurchases  NumWebVisitsMonth  \\\n",
      "0                1                    1                  2                  5   \n",
      "1                8                    2                 10                  4   \n",
      "2                2                    0                  4                  6   \n",
      "3                5                    3                  6                  5   \n",
      "4                6                    4                 10                  6   \n",
      "\n",
      "   year  month  day  Segment  \n",
      "0  2014      3    8        0  \n",
      "1  2013      8   21        1  \n",
      "2  2014      2   10        0  \n",
      "3  2014      1   19        1  \n",
      "4  2013      9    9        1  \n",
      "\n",
      "[5 rows x 23 columns]\n"
     ]
    }
   ],
   "source": [
    "# View the first few rows of the DataFrame\n",
    "print(df.head())"
   ]
  },
  {
   "cell_type": "code",
   "execution_count": 59,
   "metadata": {},
   "outputs": [
    {
     "name": "stdout",
     "output_type": "stream",
     "text": [
      "        ID  Year_Birth   Education Marital_Status   Income  Kidhome  Teenhome  \\\n",
      "1692  8372        1974  Graduation   Relationship  34421.0        1         0   \n",
      "1693  4001        1946         PhD   Relationship  64014.0        2         1   \n",
      "1694  7270        1981  Graduation         Single  56981.0        0         0   \n",
      "1695  8235        1956      Master   Relationship  69245.0        0         1   \n",
      "1696  9405        1954         PhD   Relationship  52869.0        1         1   \n",
      "\n",
      "      Recency  MntWines  MntFruits  ...  MntGoldProds  NumDealsPurchases  \\\n",
      "1692       81         3          3  ...             9                  1   \n",
      "1693       56       406          0  ...             8                  7   \n",
      "1694       91       908         48  ...            24                  1   \n",
      "1695        8       428         30  ...            61                  2   \n",
      "1696       40        84          3  ...            21                  3   \n",
      "\n",
      "      NumWebPurchases  NumCatalogPurchases  NumStorePurchases  \\\n",
      "1692                1                    0                  2   \n",
      "1693                8                    2                  5   \n",
      "1694                2                    3                 13   \n",
      "1695                6                    5                 10   \n",
      "1696                3                    1                  4   \n",
      "\n",
      "      NumWebVisitsMonth  year  month  day  Segment  \n",
      "1692                  7  2013      7    1        0  \n",
      "1693                  7  2014      6   10        0  \n",
      "1694                  6  2014      1   25        1  \n",
      "1695                  3  2014      1   24        1  \n",
      "1696                  7  2012     10   15        0  \n",
      "\n",
      "[5 rows x 23 columns]\n"
     ]
    }
   ],
   "source": [
    "# View the last few rows of the DataFrame\n",
    "print(df.tail())"
   ]
  },
  {
   "cell_type": "code",
   "execution_count": 60,
   "metadata": {},
   "outputs": [
    {
     "name": "stdout",
     "output_type": "stream",
     "text": [
      "<class 'pandas.core.frame.DataFrame'>\n",
      "RangeIndex: 1697 entries, 0 to 1696\n",
      "Data columns (total 23 columns):\n",
      " #   Column               Non-Null Count  Dtype  \n",
      "---  ------               --------------  -----  \n",
      " 0   ID                   1697 non-null   int64  \n",
      " 1   Year_Birth           1697 non-null   int64  \n",
      " 2   Education            1697 non-null   object \n",
      " 3   Marital_Status       1697 non-null   object \n",
      " 4   Income               1697 non-null   float64\n",
      " 5   Kidhome              1697 non-null   int64  \n",
      " 6   Teenhome             1697 non-null   int64  \n",
      " 7   Recency              1697 non-null   int64  \n",
      " 8   MntWines             1697 non-null   int64  \n",
      " 9   MntFruits            1697 non-null   int64  \n",
      " 10  MntMeatProducts      1697 non-null   int64  \n",
      " 11  MntFishProducts      1697 non-null   int64  \n",
      " 12  MntSweetProducts     1697 non-null   int64  \n",
      " 13  MntGoldProds         1697 non-null   int64  \n",
      " 14  NumDealsPurchases    1697 non-null   int64  \n",
      " 15  NumWebPurchases      1697 non-null   int64  \n",
      " 16  NumCatalogPurchases  1697 non-null   int64  \n",
      " 17  NumStorePurchases    1697 non-null   int64  \n",
      " 18  NumWebVisitsMonth    1697 non-null   int64  \n",
      " 19  year                 1697 non-null   int64  \n",
      " 20  month                1697 non-null   int64  \n",
      " 21  day                  1697 non-null   int64  \n",
      " 22  Segment              1697 non-null   int64  \n",
      "dtypes: float64(1), int64(20), object(2)\n",
      "memory usage: 305.1+ KB\n",
      "None\n"
     ]
    }
   ],
   "source": [
    "# Get a concise summary of the DataFrame\n",
    "print(df.info())"
   ]
  },
  {
   "cell_type": "code",
   "execution_count": 61,
   "metadata": {},
   "outputs": [
    {
     "name": "stdout",
     "output_type": "stream",
     "text": [
      "                 ID   Year_Birth        Income      Kidhome     Teenhome  \\\n",
      "count   1697.000000  1697.000000   1697.000000  1697.000000  1697.000000   \n",
      "mean    5591.355333  1969.185622  45632.246774     0.542722     0.552740   \n",
      "std     3262.119168    11.455372  18078.500559     0.548987     0.544878   \n",
      "min        1.000000  1940.000000   3502.000000     0.000000     0.000000   \n",
      "25%     2802.000000  1960.000000  31761.000000     0.000000     0.000000   \n",
      "50%     5510.000000  1971.000000  44375.000000     1.000000     1.000000   \n",
      "75%     8418.000000  1977.000000  58692.000000     1.000000     1.000000   \n",
      "max    11191.000000  1996.000000  95169.000000     2.000000     2.000000   \n",
      "\n",
      "           Recency     MntWines    MntFruits  MntMeatProducts  \\\n",
      "count  1697.000000  1697.000000  1697.000000      1697.000000   \n",
      "mean     48.964643   226.369476    12.780200        90.054213   \n",
      "std      28.944949   300.259309    18.867291       127.433360   \n",
      "min       0.000000     0.000000     0.000000         0.000000   \n",
      "25%      24.000000    15.000000     1.000000        12.000000   \n",
      "50%      49.000000    76.000000     5.000000        32.000000   \n",
      "75%      74.000000   351.000000    16.000000       109.000000   \n",
      "max      99.000000  1449.000000    93.000000       654.000000   \n",
      "\n",
      "       MntFishProducts  ...  MntGoldProds  NumDealsPurchases  NumWebPurchases  \\\n",
      "count      1697.000000  ...   1697.000000        1697.000000      1697.000000   \n",
      "mean         19.099588  ...     28.190925           2.309959         3.580436   \n",
      "std          28.681606  ...     31.274803           1.498616         2.516604   \n",
      "min           0.000000  ...      0.000000           0.000000         0.000000   \n",
      "25%           2.000000  ...      6.000000           1.000000         2.000000   \n",
      "50%           7.000000  ...     16.000000           2.000000         3.000000   \n",
      "75%          21.000000  ...     38.000000           3.000000         5.000000   \n",
      "max         142.000000  ...    149.000000           7.000000        11.000000   \n",
      "\n",
      "       NumCatalogPurchases  NumStorePurchases  NumWebVisitsMonth         year  \\\n",
      "count          1697.000000        1697.000000        1697.000000  1697.000000   \n",
      "mean              1.798468           5.073659           5.784915  2013.067177   \n",
      "std               2.207550           2.934605           2.065053     0.678312   \n",
      "min               0.000000           0.000000           0.000000  2012.000000   \n",
      "25%               0.000000           3.000000           4.000000  2013.000000   \n",
      "50%               1.000000           4.000000           6.000000  2013.000000   \n",
      "75%               3.000000           7.000000           7.000000  2014.000000   \n",
      "max              11.000000          13.000000          14.000000  2014.000000   \n",
      "\n",
      "             month          day      Segment  \n",
      "count  1697.000000  1697.000000  1697.000000  \n",
      "mean      6.449028    15.741308     0.323512  \n",
      "std       3.469361     8.764928     0.467954  \n",
      "min       1.000000     1.000000     0.000000  \n",
      "25%       3.000000     8.000000     0.000000  \n",
      "50%       6.000000    16.000000     0.000000  \n",
      "75%      10.000000    23.000000     1.000000  \n",
      "max      12.000000    31.000000     1.000000  \n",
      "\n",
      "[8 rows x 21 columns]\n"
     ]
    }
   ],
   "source": [
    "\n",
    "# Generate descriptive statistics\n",
    "print(df.describe())"
   ]
  },
  {
   "cell_type": "code",
   "execution_count": 62,
   "metadata": {},
   "outputs": [
    {
     "name": "stdout",
     "output_type": "stream",
     "text": [
      "(1697, 23)\n"
     ]
    }
   ],
   "source": [
    "# Get the dimensions of the DataFrame\n",
    "print(df.shape)"
   ]
  },
  {
   "cell_type": "code",
   "execution_count": 63,
   "metadata": {},
   "outputs": [
    {
     "name": "stdout",
     "output_type": "stream",
     "text": [
      "Missing values:\n",
      "ID                     0\n",
      "Year_Birth             0\n",
      "Education              0\n",
      "Marital_Status         0\n",
      "Income                 0\n",
      "Kidhome                0\n",
      "Teenhome               0\n",
      "Recency                0\n",
      "MntWines               0\n",
      "MntFruits              0\n",
      "MntMeatProducts        0\n",
      "MntFishProducts        0\n",
      "MntSweetProducts       0\n",
      "MntGoldProds           0\n",
      "NumDealsPurchases      0\n",
      "NumWebPurchases        0\n",
      "NumCatalogPurchases    0\n",
      "NumStorePurchases      0\n",
      "NumWebVisitsMonth      0\n",
      "year                   0\n",
      "month                  0\n",
      "day                    0\n",
      "Segment                0\n",
      "dtype: int64\n",
      "\n",
      "Cells containing the digit 0:\n",
      "ID                        0\n",
      "Year_Birth                0\n",
      "Education                 0\n",
      "Marital_Status            0\n",
      "Income                    0\n",
      "Kidhome                 821\n",
      "Teenhome                801\n",
      "Recency                  22\n",
      "MntWines                 13\n",
      "MntFruits               360\n",
      "MntMeatProducts           1\n",
      "MntFishProducts         353\n",
      "MntSweetProducts        377\n",
      "MntGoldProds             52\n",
      "NumDealsPurchases         6\n",
      "NumWebPurchases          37\n",
      "NumCatalogPurchases     572\n",
      "NumStorePurchases         3\n",
      "NumWebVisitsMonth         1\n",
      "year                      0\n",
      "month                     0\n",
      "day                       0\n",
      "Segment                1148\n",
      "dtype: int64\n"
     ]
    }
   ],
   "source": [
    "# Check for missing values in the DataFrame\n",
    "missing_values = df.isnull().sum()\n",
    "\n",
    "# Check for cells containing the digit 0\n",
    "zeros_cells = (df == 0).sum()\n",
    "\n",
    "# Print the result for missing values\n",
    "print(\"Missing values:\")\n",
    "print(missing_values)\n",
    "\n",
    "# Print the result for cells containing the digit 0\n",
    "print(\"\\nCells containing the digit 0:\")\n",
    "print(zeros_cells)\n",
    "\n",
    "#drop ID Column\n",
    "\n",
    "df = df.drop('ID', axis = 1)\n",
    "\n"
   ]
  },
  {
   "cell_type": "code",
   "execution_count": 64,
   "metadata": {},
   "outputs": [
    {
     "name": "stdout",
     "output_type": "stream",
     "text": [
      "Remaining missing values after imputation:\n",
      "Year_Birth             0\n",
      "Education              0\n",
      "Marital_Status         0\n",
      "Income                 0\n",
      "Kidhome                0\n",
      "Teenhome               0\n",
      "Recency                0\n",
      "MntWines               0\n",
      "MntFruits              0\n",
      "MntMeatProducts        0\n",
      "MntFishProducts        0\n",
      "MntSweetProducts       0\n",
      "MntGoldProds           0\n",
      "NumDealsPurchases      0\n",
      "NumWebPurchases        0\n",
      "NumCatalogPurchases    0\n",
      "NumStorePurchases      0\n",
      "NumWebVisitsMonth      0\n",
      "year                   0\n",
      "month                  0\n",
      "day                    0\n",
      "Segment                0\n",
      "dtype: int64\n"
     ]
    }
   ],
   "source": [
    "# Impute numerical columns with mean\n",
    "numerical_cols = df.select_dtypes(include='number').columns\n",
    "df[numerical_cols] = df[numerical_cols].fillna(df[numerical_cols].mean())\n",
    "\n",
    "# Impute non-numerical columns with mode\n",
    "non_numerical_cols = df.select_dtypes(exclude='number').columns\n",
    "for col in non_numerical_cols:\n",
    "    mode_val = df[col].mode()[0]  # Get the mode value for the column\n",
    "    df[col] = df[col].fillna(mode_val)\n",
    "\n",
    "# Verify that there are no missing values left\n",
    "print(\"Remaining missing values after imputation:\")\n",
    "print(df.isnull().sum())"
   ]
  },
  {
   "cell_type": "code",
   "execution_count": 65,
   "metadata": {},
   "outputs": [
    {
     "name": "stdout",
     "output_type": "stream",
     "text": [
      "   Year_Birth   Income  Kidhome  Teenhome  Recency  MntWines  MntFruits  \\\n",
      "0        1954  46344.0        1         1       38        11          1   \n",
      "1        1965  71613.0        0         0       26       426         49   \n",
      "2        1984  26646.0        1         0       26        11          4   \n",
      "3        1981  58293.0        1         0       94       173         43   \n",
      "4        1967  62513.0        0         1       16       520         42   \n",
      "\n",
      "   MntMeatProducts  MntFishProducts  MntSweetProducts  ...  NumStorePurchases  \\\n",
      "0                6                2                 1  ...                  2   \n",
      "1              127              111                21  ...                 10   \n",
      "2               20               10                 3  ...                  4   \n",
      "3              118               46                27  ...                  6   \n",
      "4               98                0                42  ...                 10   \n",
      "\n",
      "   NumWebVisitsMonth  year  month  day  Segment  Education_Graduation  \\\n",
      "0                  5  2014      3    8        0                  True   \n",
      "1                  4  2013      8   21        1                  True   \n",
      "2                  6  2014      2   10        0                  True   \n",
      "3                  5  2014      1   19        1                 False   \n",
      "4                  6  2013      9    9        1                 False   \n",
      "\n",
      "   Education_Master  Education_PhD  Marital_Status_Single  \n",
      "0             False          False                   True  \n",
      "1             False          False                  False  \n",
      "2             False          False                  False  \n",
      "3             False           True                  False  \n",
      "4              True          False                  False  \n",
      "\n",
      "[5 rows x 24 columns]\n"
     ]
    }
   ],
   "source": [
    "# One-hot encode non-numerical columns\n",
    "# df = pd.get_dummies(df, columns=['Education', 'Marital_Status'])\n",
    "categorical_columns = df.select_dtypes(include=['object']).columns\n",
    "\n",
    "df= pd.get_dummies(df, columns=categorical_columns, drop_first=True)\n",
    "\n",
    "\n",
    "\n",
    "\n",
    "# Display the updated DataFrame\n",
    "print(df.head())\n"
   ]
  },
  {
   "cell_type": "code",
   "execution_count": 66,
   "metadata": {},
   "outputs": [],
   "source": [
    "# Data Processing\n",
    "import pandas as pd\n",
    "import numpy as np\n",
    "\n",
    "# Modelling\n",
    "from sklearn.ensemble import RandomForestClassifier\n",
    "from sklearn.metrics import accuracy_score, confusion_matrix, precision_score, recall_score, ConfusionMatrixDisplay\n",
    "from sklearn.model_selection import RandomizedSearchCV, train_test_split\n",
    "from scipy.stats import randint\n",
    "\n",
    "# Tree Visualisation\n",
    "from sklearn.tree import export_graphviz\n",
    "from IPython.display import Image\n",
    "import graphviz"
   ]
  },
  {
   "cell_type": "code",
   "execution_count": 67,
   "metadata": {},
   "outputs": [],
   "source": [
    "X = df.drop('Segment', axis=1)\n",
    "y = df['Segment']\n",
    "\n",
    "# Split the data into training and test sets\n",
    "X_train, X_test, y_train, y_test = train_test_split(X, y, test_size=0.2)"
   ]
  },
  {
   "cell_type": "code",
   "execution_count": 68,
   "metadata": {},
   "outputs": [
    {
     "name": "stdout",
     "output_type": "stream",
     "text": [
      "Accuracy: 0.9970588235294118\n"
     ]
    }
   ],
   "source": [
    "rf = RandomForestClassifier()\n",
    "rf.fit(X_train, y_train)\n",
    "\n",
    "y_pred = rf.predict(X_test)\n",
    "\n",
    "accuracy = accuracy_score(y_test, y_pred)\n",
    "print(\"Accuracy:\", accuracy)"
   ]
  },
  {
   "cell_type": "code",
   "execution_count": 69,
   "metadata": {},
   "outputs": [],
   "source": [
    "# Export the first three decision trees from the forest\n",
    "\n",
    "# for i in range(3):\n",
    "#     tree = rf.estimators_[i]\n",
    "#     dot_data = export_graphviz(tree,\n",
    "#                                feature_names=X_train.columns,  \n",
    "#                                filled=True,  \n",
    "#                                max_depth=2, \n",
    "#                                impurity=False, \n",
    "#                                proportion=True)\n",
    "#     graph = graphviz.Source(dot_data)\n",
    "#     display(graph)"
   ]
  },
  {
   "cell_type": "code",
   "execution_count": 70,
   "metadata": {},
   "outputs": [
    {
     "data": {
      "text/plain": [
       "['Model.joblib']"
      ]
     },
     "execution_count": 70,
     "metadata": {},
     "output_type": "execute_result"
    }
   ],
   "source": [
    "import joblib\n",
    "\n",
    "# Save the model to a file\n",
    "joblib.dump(rf, r\"Model.joblib\")"
   ]
  }
 ],
 "metadata": {
  "kernelspec": {
   "display_name": "Python 3",
   "language": "python",
   "name": "python3"
  },
  "language_info": {
   "codemirror_mode": {
    "name": "ipython",
    "version": 3
   },
   "file_extension": ".py",
   "mimetype": "text/x-python",
   "name": "python",
   "nbconvert_exporter": "python",
   "pygments_lexer": "ipython3",
   "version": "3.12.0"
  }
 },
 "nbformat": 4,
 "nbformat_minor": 2
}
